{
    "cells": [
        {
            "cell_type": "code",
            "execution_count": 59,
            "metadata": {},
            "outputs": [],
            "source": "# The code was removed by Watson Studio for sharing."
        },
        {
            "cell_type": "code",
            "execution_count": 44,
            "metadata": {},
            "outputs": [],
            "source": "import numpy as np\nimport pandas as pd\nimport requests\nimport datetime\nfrom pandas.io.json import json_normalize "
        },
        {
            "cell_type": "markdown",
            "metadata": {},
            "source": "date = datetime.date(2012, 4, 10)\ndf_result_nyc = pd.DataFrame(columns=['astronomy', 'avgtempC', 'avgtempF', 'date', 'hourly', 'maxtempC', 'maxtempF', 'mintempC', 'mintempF', 'sunHour', 'totalSnow_cm', 'uvIndex'])\ndf_result_tokyo = pd.DataFrame(columns=['astronomy', 'avgtempC', 'avgtempF', 'date', 'hourly', 'maxtempC', 'maxtempF', 'mintempC', 'mintempF', 'sunHour', 'totalSnow_cm', 'uvIndex'])\n    \nwhile date < datetime.date(2013, 2, 16):\n    previous = date + datetime.timedelta(days=1)\n    date = date + datetime.timedelta(days=31)\n    #print(str(previous) + ' - ' + str(date))\n    #print('http://api.worldweatheronline.com/premium/v1/past-weather.ashx?key=ec64962692ca48399ce223327201804&q=New York&format=json&date={start_date}&enddate={end_date}&tp=1'.format(start_date=str(previous), end_date=str(date)))\n    result = requests.get('http://api.worldweatheronline.com/premium/v1/past-weather.ashx?key=ec64962692ca48399ce223327201804&q=New York&format=json&date={start_date}&enddate={end_date}&tp=1'.format(start_date=str(previous), end_date=str(date)))\n    df_result_nyc = df_result_nyc.append(pd.DataFrame(result.json()['data']['weather']))\n    result = requests.get('http://api.worldweatheronline.com/premium/v1/past-weather.ashx?key=ec64962692ca48399ce223327201804&q=Tokyo&format=json&date={start_date}&enddate={end_date}&tp=1'.format(start_date=str(previous), end_date=str(date)))\n    df_result_tokyo = df_result_tokyo.append(pd.DataFrame(result.json()['data']['weather']))\n    \nproject.save_data(\"weather_nyc.csv\", df_result_nyc.to_csv(index=False), overwrite=True)\nproject.save_data(\"weather_tokyo.csv\", df_result_tokyo.to_csv(index=False), overwrite=True)"
        },
        {
            "cell_type": "code",
            "execution_count": null,
            "metadata": {},
            "outputs": [],
            "source": "#project.get_assets()\ndf_nyc = pd.read_csv(project.get_file('dataset_TSMC2014_NYC.csv'))\ndf_tokyo = pd.read_csv(project.get_file('dataset_TSMC2014_TKY.csv'))"
        }
    ],
    "metadata": {
        "kernelspec": {
            "display_name": "Python 3.6",
            "language": "python",
            "name": "python3"
        },
        "language_info": {
            "codemirror_mode": {
                "name": "ipython",
                "version": 3
            },
            "file_extension": ".py",
            "mimetype": "text/x-python",
            "name": "python",
            "nbconvert_exporter": "python",
            "pygments_lexer": "ipython3",
            "version": "3.6.9"
        }
    },
    "nbformat": 4,
    "nbformat_minor": 1
}