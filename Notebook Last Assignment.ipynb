{
    "cells": [
        {
            "cell_type": "code",
            "execution_count": 67,
            "metadata": {},
            "outputs": [],
            "source": "from project_lib import Project\nimport numpy as np\nimport pandas as pd\nimport requests\nimport datetime\nfrom pandas.io.json import json_normalize "
        },
        {
            "cell_type": "code",
            "execution_count": 68,
            "metadata": {},
            "outputs": [],
            "source": "# The code was removed by Watson Studio for sharing."
        },
        {
            "cell_type": "code",
            "execution_count": 69,
            "metadata": {},
            "outputs": [
                {
                    "data": {
                        "text/plain": "{'file_name': 'weather_tokyo.csv',\n 'message': 'File saved to project storage.',\n 'bucket_name': 'courseracapstone-donotdelete-pr-7t0f3lec5wk16g',\n 'asset_id': '3505d64f-5cba-4be2-b188-994d310ba4d1'}"
                    },
                    "execution_count": 69,
                    "metadata": {},
                    "output_type": "execute_result"
                }
            ],
            "source": "start_date = datetime.date(2012, 4, 10)\nend_date = datetime.date(2013, 2, 16)\nheader_column_list = ['astronomy', 'avgtempC', 'avgtempF', 'date', 'hourly', 'maxtempC', 'maxtempF', 'mintempC', 'mintempF', 'sunHour', 'totalSnow_cm', 'uvIndex']\ndf_result_nyc = pd.DataFrame(columns=header_column_list)\ndf_result_tokyo = pd.DataFrame(columns=header_column_list)\n    \nstart_date = datetime.date(2012, 4, 10)\nend_date = datetime.date(2013, 2, 16)\n\nwhile start_date < end_date:\n    previous_date = start_date + datetime.timedelta(days=1)\n    start_date = start_date + datetime.timedelta(days=31)\n    #print(str(previous) + ' - ' + str(date))\n    #print('http://api.worldweatheronline.com/premium/v1/past-weather.ashx?key=ec64962692ca48399ce223327201804&q=New York&format=json&date={start_date}&enddate={end_date}&tp=1'.format(start_date=str(previous), end_date=str(date)))\n    result = requests.get('http://api.worldweatheronline.com/premium/v1/past-weather.ashx?key={key}&q=New York&format=json&date={start_date}&enddate={end_date}&tp=1'.format(key= weatheronline_api_key, start_date=str(previous), end_date=str(date)))\n    df_result_nyc = df_result_nyc.append(pd.DataFrame(result.json()['data']['weather']))\n    result = requests.get('http://api.worldweatheronline.com/premium/v1/past-weather.ashx?key={key}&q=Tokyo&format=json&date={start_date}&enddate={end_date}&tp=1'.format(key= weatheronline_api_key, start_date=str(previous), end_date=str(date)))\n    df_result_tokyo = df_result_tokyo.append(pd.DataFrame(result.json()['data']['weather']))\n    \nproject.save_data(\"weather_nyc.csv\", df_result_nyc.to_csv(index=False), overwrite=True)\nproject.save_data(\"weather_tokyo.csv\", df_result_tokyo.to_csv(index=False), overwrite=True)"
        },
        {
            "cell_type": "code",
            "execution_count": 70,
            "metadata": {},
            "outputs": [],
            "source": "df_nyc = pd.read_csv(project.get_file('dataset_TSMC2014_NYC.csv'))\ndf_tokyo = pd.read_csv(project.get_file('dataset_TSMC2014_TKY.csv'))"
        }
    ],
    "metadata": {
        "kernelspec": {
            "display_name": "Python 3.6",
            "language": "python",
            "name": "python3"
        },
        "language_info": {
            "codemirror_mode": {
                "name": "ipython",
                "version": 3
            },
            "file_extension": ".py",
            "mimetype": "text/x-python",
            "name": "python",
            "nbconvert_exporter": "python",
            "pygments_lexer": "ipython3",
            "version": "3.6.9"
        }
    },
    "nbformat": 4,
    "nbformat_minor": 1
}